{
 "cells": [
  {
   "cell_type": "code",
   "execution_count": null,
   "metadata": {},
   "outputs": [],
   "source": [
    "# %pip install langchain_openai\n",
    "# %pip install langchain_community\n",
    "# %pip install google-search-results"
   ]
  },
  {
   "cell_type": "code",
   "execution_count": 67,
   "metadata": {},
   "outputs": [],
   "source": [
    "from config import Vertical\n",
    "import json\n",
    "import os\n",
    "from dotenv import load_dotenv"
   ]
  },
  {
   "cell_type": "code",
   "execution_count": 68,
   "metadata": {},
   "outputs": [
    {
     "data": {
      "text/plain": [
       "True"
      ]
     },
     "execution_count": 68,
     "metadata": {},
     "output_type": "execute_result"
    }
   ],
   "source": [
    "load_dotenv()"
   ]
  },
  {
   "cell_type": "markdown",
   "metadata": {},
   "source": [
    "#### *initialize Agent*"
   ]
  },
  {
   "cell_type": "code",
   "execution_count": 69,
   "metadata": {},
   "outputs": [
    {
     "name": "stdout",
     "output_type": "stream",
     "text": [
      "Vertical Agent Initialized✅\n"
     ]
    }
   ],
   "source": [
    "VerticalAgent = Vertical()"
   ]
  },
  {
   "cell_type": "code",
   "execution_count": 70,
   "metadata": {},
   "outputs": [
    {
     "name": "stdout",
     "output_type": "stream",
     "text": [
      "['google', 'openai']\n"
     ]
    }
   ],
   "source": [
    "# get the list of models\n",
    "models = VerticalAgent.model_list()\n",
    "print(models)"
   ]
  },
  {
   "cell_type": "code",
   "execution_count": 71,
   "metadata": {},
   "outputs": [
    {
     "name": "stdout",
     "output_type": "stream",
     "text": [
      "['str', 'json', 'pydantic']\n"
     ]
    }
   ],
   "source": [
    "# get the list of output parsers\n",
    "output_parsers = VerticalAgent.output_parser_list()\n",
    "print(output_parsers)"
   ]
  },
  {
   "cell_type": "code",
   "execution_count": 72,
   "metadata": {},
   "outputs": [],
   "source": [
    "# open json file get prompt\n",
    "with open('Prompt.json') as file:\n",
    "    data = json.load(file)"
   ]
  },
  {
   "cell_type": "code",
   "execution_count": 73,
   "metadata": {},
   "outputs": [
    {
     "name": "stdout",
     "output_type": "stream",
     "text": [
      "I am looking for information on the healthcare industry, particularly in the field of telemedicine.  Your response should follow this JSON format:  ```json 'Industry: 'industry',  'Domain': 'domain',  'Description': 'briefdescription' ,  'KeyPlayers': 'keyplayers',  Market Size: 'marketsize',  'MarketTrends': 'markettrends', 'Challenges': 'challenges',  'Opportunities':'opportunities', 'important_keywords': 'importantkeywords' ````  \n",
      "You are an AI assistant specializing in providing detailed information about various business verticals. Based on the user's input, you will generate a structured response, summarizing the industry and domain the user mentions. '\n"
     ]
    }
   ],
   "source": [
    "user_input = data[0].get('user_input')\n",
    "system_input = data[0].get('system_msg')\n",
    "print(user_input)  \n",
    "print(system_input)"
   ]
  },
  {
   "cell_type": "code",
   "execution_count": 74,
   "metadata": {},
   "outputs": [
    {
     "name": "stdout",
     "output_type": "stream",
     "text": [
      "\n",
      "\n",
      "\u001b[1m> Entering new AgentExecutor chain...\u001b[0m\n",
      "\u001b[32;1m\u001b[1;3mThought: I need to find information about the healthcare industry, specifically telemedicine, to populate the JSON structure.  I will use WebSearch to gather the necessary data.\n",
      "\n",
      "Action: WebSearch\n",
      "Action Input: \"telemedicine market size, key players, market trends, challenges, opportunities, important keywords\"\u001b[0m\n",
      "Observation: \u001b[36;1m\u001b[1;3m[' entity_type: related_questions.', 'The global telemedicine market size was valued at USD 97.15 billion in 2023 and is projected to be worth USD 107.52 billion in 2024 and reach USD 432.31 billion ...', 'The global telehealth and telemdicine market, valued at US$83.62B in 2023, is forecasted to grow at a 11.5% CAGR, reaching US$94.14B by 2024 and US$180.86B ...', 'The global telemedicine market size was valued at USD 114.98 billion in 2023 and is expected to grow at a compound annual growth rate (CAGR) of 17.96% from ...', 'Telemedicine Market growth is projected to reach 222.7 USD billion, at a 12.2% CAGR by driving industry size, share, top company analysis, segments research ...', 'The telemedicine market size was valued at $84.3 Bn in 2022, and is set to reach $451.4 billion by 2032, growing at a CAGR of 18.3% from 2023 to 2032.', 'The global telemedicine market is projected to grow from US$78.7 billion in 2023 to US$313.9 billion by 2031, achieving a CAGR of 19.2% from 2024 to 2031.', 'The global telemedicine market size was estimated at USD 130.5 billion in 2023. The market is expected to grow from USD 149.4 billion in 2024 to USD 503.8 ...', 'The global telemedicine market size was estimated at USD 135.71 billion in 2024 and is anticipated to reach around USD 709.69 billion by 2034, ...', 'The global telemedicine market size reached USD 91.53 Billion in 2024 and grow at a CAGR of 21.71% to reach USD 539.95 Billion by 2033.', 'Telemedicine Market Forecast: USD 508.03 Bn by 2032, growing at a CAGR of 17.95% from 2025 to 2032. Explore Detailed market share and trends analysis.']\u001b[0m\n",
      "Thought:\u001b[32;1m\u001b[1;3mThought:The WebSearch results provide conflicting market size figures and growth rates. I need to find more reliable sources and consolidate the information to create the JSON output.  I'll refine my search query to focus on reputable market research reports.\n",
      "\n",
      "Action: WebSearch\n",
      "Action Input: \"telemedicine market research reports\"\u001b[0m\n",
      "Observation: \u001b[36;1m\u001b[1;3m[' entity_type: related_questions.', 'The global telemedicine market size was valued at USD 97.15 billion in 2023 and is projected to be worth USD 107.52 billion in 2024 and reach USD 432.31 billion ...', 'The global telemedicine market is expected to grow at a compound annual growth rate of 17.96% from 2024 to 2030 to reach USD 380.3 billion by 2030. Which ...', 'As a consequence, the global telehealth market was valued at $83.5 billion in 2022 and is projected to expand at a compound annual growth rate of 24 percent ...', 'The global telehealth and telemedicine market is projected to grow from USD 94.14 billion in 2024 to USD 180.86 billion by 2030, at a CAGR of 11.5 % from 2024– ...', 'The global telehealth market size was estimated at USD 101.15 billion in 2023 and is projected to grow at a CAGR of 24.3% from 2024 to 2030.', 'The Telemedicine Market Valued at USD 98.8 billion in 2023, projected to grow from USD 110.9 billion in 2024 to USD 222.70 billion by 2032, exhibiting a CAGR of ...', 'Worldwide telemedicine market size growth is projected at over 13.88% CAGR to cross USD 376.12 billion by 2030 driven by technological advancements, ...', 'The market size of the Telehealth Services in the US industry in United States has been growing at a CAGR of 23.9 % between 2019 and 2024.', 'These databases contain market & industry reports that provide overviews of the industry and the intended market or end consumer.', 'Find Telemedicine Market Research Reports and industry analysis for market segmentation data and market growth.']\u001b[0m\n",
      "Thought:\u001b[32;1m\u001b[1;3mThought:The WebSearch results still show varying market size estimations.  I will need to synthesize information from multiple sources and make a reasoned judgment on the most likely figures. I will also need to gather information on key players, trends, challenges, and opportunities from other web searches.\n",
      "\n",
      "Action: WebSearch\n",
      "Action Input: \"telemedicine key players, market trends, challenges, opportunities\"\u001b[0m\n",
      "Observation: \u001b[36;1m\u001b[1;3m[' entity_type: related_questions.', 'The global telehealth and telemdicine market, valued at US$83.62B in 2023, is forecasted to grow at a 11.5% CAGR, reaching US$94.14B by 2024 and US$180.86B ...', 'Despite the promising growth, the telemedicine market faces several challenges. These include regulatory and reimbursement issues, data privacy ...', 'The Telemedicine market is expected to reach US$ 618.34 billion in 2033 from US$ 83.23 billion in 2024, with a CAGR of 24.96% from 2024 to 2030.', 'The global telemedicine market is projected to grow from US$78.7 billion in 2023 to US$313.9 billion by 2031, achieving a CAGR of 19.2% from 2024 to 2031.', 'Challenges in the telehealth market include issues related to data security and privacy, regulatory barriers, and reimbursement policies. 4.', 'Discover top telehealth solution providers and key investment opportunities in the booming telemedicine industry.', 'Telemedicine Market size was valued at USD 36.92 Bn in 2024 and is projected to reach USD 118.78 Bn by 2031, growing at a CAGR of 17.35% from 2024 to 2031.', 'The most critical challenge in deploying telehealth is to create the right patient experience — from the first touchpoint through care delivery ...', 'Telemedicine Market growth is projected to reach 222.7 USD billion, at a 12.2% CAGR by driving industry size, share, top company analysis, segments research ...', 'The presence of major players, such as Teladoc, MDLive, and others, strong government support, and increasing teleconsultations are driving the market growth in ...']\u001b[0m\n",
      "Thought:\u001b[32;1m\u001b[1;3mThought:I will now synthesize the information gathered from the web searches to create the JSON output.  I will use a range for market size to reflect the uncertainty in the data.  I will also identify key players and trends based on the observations.\n",
      "\n",
      "Thought:I now know the final answer.\n",
      "\n",
      "Final Answer:```json\n",
      "{\n",
      "  \"Industry\": \"Healthcare\",\n",
      "  \"Domain\": \"Telemedicine\",\n",
      "  \"Description\": \"Telemedicine, also known as telehealth, involves the remote delivery of healthcare services using technology.  It includes virtual consultations, remote monitoring, and other digital health tools.\",\n",
      "  \"KeyPlayers\": \"Teladoc, MDLive, (other players would need further research to accurately list)\",\n",
      "  \"MarketSize\": \"USD 100 Billion - USD 500 Billion (estimates vary widely across sources)\",\n",
      "  \"MarketTrends\": \"High growth potential, increasing adoption due to technological advancements and convenience, regulatory changes and reimbursement policies are influencing growth.\",\n",
      "  \"Challenges\": \"Data security and privacy concerns, regulatory hurdles, reimbursement complexities, ensuring equitable access, maintaining patient-physician relationships remotely.\",\n",
      "  \"Opportunities\": \"Expansion into underserved areas, integration with other healthcare technologies, development of specialized telemedicine solutions, improved patient engagement and outcomes.\",\n",
      "  \"important_keywords\": \"telehealth, telemedicine, virtual care, remote patient monitoring, digital health, telehealth platforms\"\n",
      "}\n",
      "```\u001b[0m\n",
      "\n",
      "\u001b[1m> Finished chain.\u001b[0m\n"
     ]
    }
   ],
   "source": [
    "response = VerticalAgent.invoke_vertical(\n",
    "    user_input= user_input,\n",
    "    system_input= system_input,\n",
    "    model_name=\"google\",\n",
    "    output_parser=\"json\",\n",
    "    verbose=True,\n",
    "    model_variant=\"gemini-1.5-flash\"\n",
    ")"
   ]
  },
  {
   "cell_type": "code",
   "execution_count": 75,
   "metadata": {},
   "outputs": [
    {
     "name": "stdout",
     "output_type": "stream",
     "text": [
      "response : {'Industry': 'Healthcare', 'Domain': 'Telemedicine', 'Description': 'Telemedicine, also known as telehealth, involves the remote delivery of healthcare services using technology.  It includes virtual consultations, remote monitoring, and other digital health tools.', 'KeyPlayers': 'Teladoc, MDLive, (other players would need further research to accurately list)', 'MarketSize': 'USD 100 Billion - USD 500 Billion (estimates vary widely across sources)', 'MarketTrends': 'High growth potential, increasing adoption due to technological advancements and convenience, regulatory changes and reimbursement policies are influencing growth.', 'Challenges': 'Data security and privacy concerns, regulatory hurdles, reimbursement complexities, ensuring equitable access, maintaining patient-physician relationships remotely.', 'Opportunities': 'Expansion into underserved areas, integration with other healthcare technologies, development of specialized telemedicine solutions, improved patient engagement and outcomes.', 'important_keywords': 'telehealth, telemedicine, virtual care, remote patient monitoring, digital health, telehealth platforms'}\n"
     ]
    }
   ],
   "source": [
    "print(\"response :\",response)"
   ]
  },
  {
   "cell_type": "code",
   "execution_count": 76,
   "metadata": {},
   "outputs": [
    {
     "name": "stdout",
     "output_type": "stream",
     "text": [
      "type of response : <class 'dict'>\n"
     ]
    }
   ],
   "source": [
    "print(\"type of response :\",type(response))"
   ]
  },
  {
   "cell_type": "code",
   "execution_count": 77,
   "metadata": {},
   "outputs": [],
   "source": [
    "file_path = 'VerticalAgent_Output.json'\n"
   ]
  },
  {
   "cell_type": "code",
   "execution_count": 78,
   "metadata": {},
   "outputs": [],
   "source": [
    "# Check if the file exists\n",
    "if os.path.exists(file_path):\n",
    "    # Read the existing data from the file\n",
    "    with open(file_path, 'r') as file:\n",
    "        existing_data = json.load(file)\n",
    "        # If the existing data is not a list, make it one\n",
    "        if not isinstance(existing_data, list):\n",
    "            existing_data = [existing_data]\n",
    "else:\n",
    "    # If the file doesn't exist, start with an empty list\n",
    "    existing_data = []\n",
    "\n",
    "# Append the new response to the existing data (which should now be a list)\n",
    "existing_data.append(response)\n",
    "\n",
    "# Write the updated data back to the file\n",
    "with open(file_path, 'w') as file:\n",
    "    json.dump(existing_data, file, indent=4)"
   ]
  },
  {
   "cell_type": "code",
   "execution_count": null,
   "metadata": {},
   "outputs": [],
   "source": []
  },
  {
   "cell_type": "code",
   "execution_count": null,
   "metadata": {},
   "outputs": [],
   "source": []
  }
 ],
 "metadata": {
  "kernelspec": {
   "display_name": "myenv",
   "language": "python",
   "name": "python3"
  },
  "language_info": {
   "codemirror_mode": {
    "name": "ipython",
    "version": 3
   },
   "file_extension": ".py",
   "mimetype": "text/x-python",
   "name": "python",
   "nbconvert_exporter": "python",
   "pygments_lexer": "ipython3",
   "version": "3.12.7"
  }
 },
 "nbformat": 4,
 "nbformat_minor": 2
}
