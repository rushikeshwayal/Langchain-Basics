{
 "cells": [
  {
   "cell_type": "code",
   "execution_count": null,
   "metadata": {},
   "outputs": [],
   "source": [
    "# %pip install langchain_openai\n",
    "# %pip install langchain_community\n",
    "# %pip install google-search-results"
   ]
  },
  {
   "cell_type": "code",
   "execution_count": 1,
   "metadata": {},
   "outputs": [],
   "source": [
    "from config import CustomAgent,WebScrap,extract_text_from_url\n",
    "from prompt import VerticalPrompt\n",
    "import json\n",
    "import os\n",
    "from dotenv import load_dotenv"
   ]
  },
  {
   "cell_type": "code",
   "execution_count": 2,
   "metadata": {},
   "outputs": [
    {
     "data": {
      "text/plain": [
       "True"
      ]
     },
     "execution_count": 2,
     "metadata": {},
     "output_type": "execute_result"
    }
   ],
   "source": [
    "load_dotenv()"
   ]
  },
  {
   "cell_type": "markdown",
   "metadata": {},
   "source": [
    "#### Web Scrap Content"
   ]
  },
  {
   "cell_type": "code",
   "execution_count": 3,
   "metadata": {},
   "outputs": [
    {
     "data": {
      "text/plain": [
       "\"top of page TM Home Solution Resources Company Contact Us More Use tab to navigate through the menu items. The New Standard in Data Management We offer end-to-end data migration solutions that make data analysis and management a breeze for your business. Get a 360-degree view and 100% control of your data migration project with our solution. Learn More Beyond ETL Our product distinguishes itself from competitors through its commitment to simplicity, end-to-end solution delivery, and a strong focus on the end-user experience. Here's how we stand out \\u200b Additionally, we recognize the importance of efficiency and accuracy in data management. Simplicity We prioritize an intuitive application design, ensuring users of varying technical backgrounds can effortlessly navigate and fully leverage our platform. This approach significantly reduces the learning curve and maximizes user engagement and productivity. End-to-End Delivery Our platform offers a holistic data migration solution, covering every stage from discovery and planning to execution, handoff and reporting. This comprehensive support streamlines the data migration process, providing our clients with a seamless, unified toolset. Automated Tracking and Progress Reporting We've integrated sophisticated tracking mechanisms that provide automated, real-time updates on project progress. This feature ensures that all stakeholders have up-to-date information, facilitating better decision-making and keeping projects on track. Automation of Repetitive Processes Our application automates repetitive tasks, organizing and streamlining workflows to minimize manual intervention. This not only boosts efficiency but also reduces the potential for human error, ensuring a smoother, faster data management process. End User Focus By centering our development around the needs and feedback of our end users, we create a user experience that directly addresses their challenges and enhances their daily operations, leading to improved business outcomes. Connectors Transform Your Data Journey with Datamatter In a marketplace where complexity and fragmentation are all too common, our product offers a refreshingly straightforward and effective solution. We believe that by focusing on these key areas, we are well-positioned to deliver unparalleled value to our clients and, by extension, offer a compelling investment opportunity. © 2024. Datamatter™ Technologies. bottom of page top of page TM Home Solution Resources Company Contact Us More Use tab to navigate through the menu items. The New Standard in Data Management We offer end-to-end data migration solutions that make data analysis and management a breeze for your business. Get a 360-degree view and 100% control of your data migration project with our solution. Learn More Beyond ETL Our product distinguishes itself from competitors through its commitment to simplicity, end-to-end solution delivery, and a strong focus on the end-user experience. Here's how we stand out \\u200b Additionally, we recognize the importance of efficiency and accuracy in data management. Simplicity We prioritize an intuitive application design, ensuring users of varying technical backgrounds can effortlessly navigate and fully leverage our platform. This approach significantly reduces the learning curve and maximizes user engagement and productivity. End-to-End Delivery Our platform offers a holistic data migration solution, covering every stage from discovery and planning to execution, handoff and reporting. This comprehensive support streamlines the data migration process, providing our clients with a seamless, unified toolset. Automated Tracking and Progress Reporting We've integrated sophisticated tracking mechanisms that provide automated, real-time updates on project progress. This feature ensures that all stakeholders have up-to-date information, facilitating better decision-making and keeping projects on track. Automation of Repetitive Processes Our application automates repetitive tasks, organizing and streamlining workflows to minimize manual intervention. This not only boosts efficiency but also reduces the potential for human error, ensuring a smoother, faster data management process. End User Focus By centering our development around the needs and feedback of our end users, we create a user experience that directly addresses their challenges and enhances their daily operations, leading to improved business outcomes. Connectors Transform Your Data Journey with Datamatter In a marketplace where complexity and fragmentation are all too common, our product offers a refreshingly straightforward and effective solution. We believe that by focusing on these key areas, we are well-positioned to deliver unparalleled value to our clients and, by extension, offer a compelling investment opportunity. © 2024. Datamatter™ Technologies. bottom of page top of page TM Home Solution Resources Company Contact Us More Use tab to navigate through the menu items. The New...\""
      ]
     },
     "execution_count": 3,
     "metadata": {},
     "output_type": "execute_result"
    }
   ],
   "source": [
    "content = extract_text_from_url(\"https://www.datamatter.tech/\")\n",
    "content"
   ]
  },
  {
   "cell_type": "code",
   "execution_count": 4,
   "metadata": {},
   "outputs": [
    {
     "name": "stdout",
     "output_type": "stream",
     "text": [
      "Web Scrap Agent Initialized✅\n"
     ]
    },
    {
     "data": {
      "text/plain": [
       "'Datamatter™ Technologies operates in the **data management and migration solutions** domain.  They offer an end-to-end platform designed for simplicity and ease of use, focusing on automation and a strong user experience.  Their solutions aim to streamline data analysis and management for businesses, improving efficiency and accuracy.  The company emphasizes features such as automated tracking, progress reporting, and automation of repetitive processes.'"
      ]
     },
     "execution_count": 4,
     "metadata": {},
     "output_type": "execute_result"
    }
   ],
   "source": [
    "WebSccrap = WebScrap()\n",
    "web_content=WebSccrap.invoke_web_scraping(webcontent=content,model_name=\"google\",model_variant=\"gemini-1.5-flash\")\n",
    "web_content"
   ]
  },
  {
   "cell_type": "code",
   "execution_count": 5,
   "metadata": {},
   "outputs": [],
   "source": [
    "prompt = VerticalPrompt()"
   ]
  },
  {
   "cell_type": "code",
   "execution_count": 6,
   "metadata": {},
   "outputs": [
    {
     "data": {
      "text/plain": [
       "'\\n    Identify the primary business domain for the following client:\\n    Client Name: DataMatter\\n        Client Description: A leading provider of migration services\\n        Website Content: Datamatter™ Technologies operates in the **data management and migration solutions** domain.  They offer an end-to-end platform designed for simplicity and ease of use, focusing on automation and a strong user experience.  Their solutions aim to streamline data analysis and management for businesses, improving efficiency and accuracy.  The company emphasizes features such as automated tracking, progress reporting, and automation of repetitive processes.\\n\\n    Based on this information, classify the client into one of the following business domains:\\n        - List your predefined business domains here, e.g., Healthcare, Finance, Retail, Manufacturing, Technology, Education, etc.\\n        \\n        Provide the following in your response in JSON format:\\n    \\n            \"domain_name\": \"Identified Business Domain Name\",\\n            \"domain_description\": \"A brief description of the identified domain based on the client info\",\\n            \"keywords\": \"list\", \"of\", \"relevant\", \"keywords\",  \\n            \"confidence_score\": 0.95; Confidence score between 0.0 and 1.0\\n    \\n        If you cannot confidently classify the domain, return null or an empty JSON.\\n'"
      ]
     },
     "execution_count": 6,
     "metadata": {},
     "output_type": "execute_result"
    }
   ],
   "source": [
    "prompt_txt=prompt. get_prompt(client_name=\"DataMatter\",client_description=\"A leading provider of migration services\",website_content=web_content)\n",
    "prompt_txt"
   ]
  },
  {
   "cell_type": "markdown",
   "metadata": {},
   "source": [
    "#### *initialize Agent*"
   ]
  },
  {
   "cell_type": "code",
   "execution_count": 7,
   "metadata": {},
   "outputs": [
    {
     "name": "stdout",
     "output_type": "stream",
     "text": [
      "Vertical Agent Initialized✅\n"
     ]
    }
   ],
   "source": [
    "VerticalAgent = CustomAgent()"
   ]
  },
  {
   "cell_type": "code",
   "execution_count": 8,
   "metadata": {},
   "outputs": [
    {
     "name": "stdout",
     "output_type": "stream",
     "text": [
      "['google', 'openai']\n"
     ]
    }
   ],
   "source": [
    "# get the list of models\n",
    "models = VerticalAgent.model_list()\n",
    "print(models)"
   ]
  },
  {
   "cell_type": "code",
   "execution_count": 9,
   "metadata": {},
   "outputs": [
    {
     "name": "stdout",
     "output_type": "stream",
     "text": [
      "['str', 'json', 'pydantic']\n"
     ]
    }
   ],
   "source": [
    "# get the list of output parsers\n",
    "output_parsers = VerticalAgent.output_parser_list()\n",
    "print(output_parsers)"
   ]
  },
  {
   "cell_type": "code",
   "execution_count": 10,
   "metadata": {},
   "outputs": [],
   "source": [
    "# open json file get prompt\n",
    "with open('Prompt.json') as file:\n",
    "    data = json.load(file)"
   ]
  },
  {
   "cell_type": "code",
   "execution_count": 11,
   "metadata": {},
   "outputs": [
    {
     "name": "stdout",
     "output_type": "stream",
     "text": [
      "You are an AI assistant specializing in providing detailed information about various business verticals. Based on the user's input, you will generate a structured response, summarizing the industry and domain the user mentions. '\n"
     ]
    }
   ],
   "source": [
    "# user_input = data[0].get('user_input')\n",
    "system_input = data[0].get('system_msg')\n",
    "# print(user_input)  \n",
    "print(system_input)"
   ]
  },
  {
   "cell_type": "code",
   "execution_count": 62,
   "metadata": {},
   "outputs": [
    {
     "name": "stdout",
     "output_type": "stream",
     "text": [
      "\n",
      "\n",
      "\u001b[1m> Entering new AgentExecutor chain...\u001b[0m\n",
      "\u001b[32;1m\u001b[1;3mThought:The question asks to identify the business domain of DataMatter based on the provided description. The description clearly indicates that DataMatter operates in the data management and migration solutions domain.  I don't need to perform a web search. I can directly generate the JSON response.\n",
      "\n",
      "Thought: I now know the final answer\n",
      "\n",
      "Final Answer:\n",
      "```json\n",
      "{\n",
      "  \"domain_name\": \"Technology\",\n",
      "  \"domain_description\": \"DataMatter operates in the technology sector, specifically providing data management and migration solutions.  Their services focus on automating data processes, improving efficiency and accuracy for businesses.\",\n",
      "  \"keywords\": [\"data management\", \"data migration\", \"data analysis\", \"automation\", \"software\", \"technology\", \"IT services\", \"cloud\", \"migration services\", \"data solutions\"],\n",
      "  \"confidence_score\": 0.98\n",
      "}\n",
      "```\u001b[0m\n",
      "\n",
      "\u001b[1m> Finished chain.\u001b[0m\n"
     ]
    }
   ],
   "source": [
    "response = VerticalAgent.invoke_agent(\n",
    "    user_input= prompt_txt,\n",
    "    system_input= system_input,\n",
    "    model_name=\"google\",\n",
    "    output_parser=\"json\",\n",
    "    verbose=True,\n",
    "    model_variant=\"gemini-1.5-flash\"\n",
    ")"
   ]
  },
  {
   "cell_type": "code",
   "execution_count": 63,
   "metadata": {},
   "outputs": [
    {
     "name": "stdout",
     "output_type": "stream",
     "text": [
      "response : {'domain_name': 'Technology', 'domain_description': 'DataMatter operates in the technology sector, specifically providing data management and migration solutions.  Their services focus on automating data processes, improving efficiency and accuracy for businesses.', 'keywords': ['data management', 'data migration', 'data analysis', 'automation', 'software', 'technology', 'IT services', 'cloud', 'migration services', 'data solutions'], 'confidence_score': 0.98}\n"
     ]
    }
   ],
   "source": [
    "print(\"response :\",response)"
   ]
  },
  {
   "cell_type": "code",
   "execution_count": 64,
   "metadata": {},
   "outputs": [
    {
     "name": "stdout",
     "output_type": "stream",
     "text": [
      "type of response : <class 'dict'>\n"
     ]
    }
   ],
   "source": [
    "print(\"type of response :\",type(response))"
   ]
  },
  {
   "cell_type": "code",
   "execution_count": 65,
   "metadata": {},
   "outputs": [
    {
     "name": "stdout",
     "output_type": "stream",
     "text": [
      "{'domain_name': 'Technology', 'domain_description': 'DataMatter operates in the technology sector, specifically providing data management and migration solutions.  Their services focus on automating data processes, improving efficiency and accuracy for businesses.', 'keywords': ['data management', 'data migration', 'data analysis', 'automation', 'software', 'technology', 'IT services', 'cloud', 'migration services', 'data solutions'], 'confidence_score': 0.98}\n"
     ]
    }
   ],
   "source": [
    "json_data = response\n",
    "print(json_data)"
   ]
  },
  {
   "cell_type": "code",
   "execution_count": 66,
   "metadata": {},
   "outputs": [],
   "source": [
    "file_path = 'VerticalAgent_Output.json'\n"
   ]
  },
  {
   "cell_type": "code",
   "execution_count": 67,
   "metadata": {},
   "outputs": [],
   "source": [
    "# Check if the file exists\n",
    "if os.path.exists(file_path):\n",
    "    # Read the existing data from the file\n",
    "    with open(file_path, 'r') as file:\n",
    "        existing_data = json.load(file)\n",
    "        # If the existing data is not a list, make it one\n",
    "        if not isinstance(existing_data, list):\n",
    "            existing_data = [existing_data]\n",
    "else:\n",
    "    # If the file doesn't exist, start with an empty list\n",
    "    existing_data = []\n",
    "\n",
    "# Append the new response to the existing data (which should now be a list)\n",
    "existing_data.append(response)\n",
    "\n",
    "\n",
    "# Write the updated data back to the file\n",
    "with open(file_path, 'w') as file:\n",
    "    json.dump(existing_data, file, indent=4)"
   ]
  },
  {
   "cell_type": "markdown",
   "metadata": {},
   "source": [
    "### database\n"
   ]
  },
  {
   "cell_type": "code",
   "execution_count": 68,
   "metadata": {},
   "outputs": [],
   "source": [
    "# %pip install sentence-transformers psycopg2 numpy\n"
   ]
  },
  {
   "cell_type": "code",
   "execution_count": 69,
   "metadata": {},
   "outputs": [],
   "source": [
    "import psycopg2\n",
    "import numpy as np\n",
    "from sentence_transformers import SentenceTransformer"
   ]
  },
  {
   "cell_type": "code",
   "execution_count": 70,
   "metadata": {},
   "outputs": [],
   "source": [
    "model = SentenceTransformer(\"sentence-transformers/all-MiniLM-L6-v2\")  # 384-d embeddings\n",
    "\n",
    "# PostgreSQL connection\n",
    "conn = psycopg2.connect(\n",
    "    database=\"vect\",\n",
    "    user=\"postgres\",\n",
    "    password=\"newpassword\",\n",
    "    host=\"127.0.0.1\",\n",
    "    port=5432\n",
    ")\n",
    "cursor = conn.cursor()"
   ]
  },
  {
   "cell_type": "code",
   "execution_count": 71,
   "metadata": {},
   "outputs": [],
   "source": [
    "# Ensure pgvector extension is enabled\n",
    "cursor.execute(\"CREATE EXTENSION IF NOT EXISTS vector\")"
   ]
  },
  {
   "cell_type": "code",
   "execution_count": 72,
   "metadata": {},
   "outputs": [],
   "source": [
    "# Create table if not exists\n",
    "cursor.execute(\"\"\"\n",
    "    CREATE TABLE IF NOT EXISTS domain_embeddings (\n",
    "        id SERIAL PRIMARY KEY,\n",
    "        domain_name TEXT,\n",
    "        domain_description TEXT,\n",
    "        keywords TEXT[],\n",
    "        confidence_score FLOAT,\n",
    "        embedding vector(384) -- Change to match the model's output size\n",
    "    )\n",
    "\"\"\")\n",
    "conn.commit()"
   ]
  },
  {
   "cell_type": "code",
   "execution_count": 73,
   "metadata": {},
   "outputs": [],
   "source": [
    "# # Sample JSON from LLM\n",
    "# json_data = {\n",
    "#     \"domain_name\": \"Healthcare\",\n",
    "#     \"domain_description\": \"The client is a leading provider of healthcare services and medical devices worldwide, indicating a primary focus on the healthcare industry.\",\n",
    "#     \"keywords\": [\n",
    "#         \"healthcare\",\n",
    "#         \"medical devices\",\n",
    "#         \"services\",\n",
    "#         \"hospital\",\n",
    "#         \"clinic\",\n",
    "#         \"pharmaceutical\",\n",
    "#         \"medical supplies\",\n",
    "#         \"treatment\"\n",
    "#     ],\n",
    "#     \"confidence_score\": 0.95\n",
    "# }"
   ]
  },
  {
   "cell_type": "code",
   "execution_count": 74,
   "metadata": {},
   "outputs": [],
   "source": [
    "# Convert numerical value to string\n",
    "text_to_embed = (\n",
    "    json_data[\"domain_name\"] + \" \" +\n",
    "    json_data[\"domain_description\"] + \" \" + \n",
    "    \" \".join(json_data[\"keywords\"]) + \" \" + \"Confidance Score \"+ \n",
    "    str(json_data[\"confidence_score\"])  # Convert float to string before concatenation\n",
    ")\n"
   ]
  },
  {
   "cell_type": "code",
   "execution_count": 75,
   "metadata": {},
   "outputs": [
    {
     "data": {
      "text/plain": [
       "'Technology DataMatter operates in the technology sector, specifically providing data management and migration solutions.  Their services focus on automating data processes, improving efficiency and accuracy for businesses. data management data migration data analysis automation software technology IT services cloud migration services data solutions Confidance Score 0.98'"
      ]
     },
     "execution_count": 75,
     "metadata": {},
     "output_type": "execute_result"
    }
   ],
   "source": [
    "text_to_embed"
   ]
  },
  {
   "cell_type": "code",
   "execution_count": 76,
   "metadata": {},
   "outputs": [],
   "source": [
    "# Generate embedding using Hugging Face\n",
    "embedding = model.encode(text_to_embed).tolist()"
   ]
  },
  {
   "cell_type": "code",
   "execution_count": 77,
   "metadata": {},
   "outputs": [
    {
     "data": {
      "text/plain": [
       "384"
      ]
     },
     "execution_count": 77,
     "metadata": {},
     "output_type": "execute_result"
    }
   ],
   "source": [
    "len(embedding)"
   ]
  },
  {
   "cell_type": "code",
   "execution_count": 79,
   "metadata": {},
   "outputs": [
    {
     "ename": "InterfaceError",
     "evalue": "cursor already closed",
     "output_type": "error",
     "traceback": [
      "\u001b[1;31m---------------------------------------------------------------------------\u001b[0m",
      "\u001b[1;31mInterfaceError\u001b[0m                            Traceback (most recent call last)",
      "Cell \u001b[1;32mIn[79], line 1\u001b[0m\n\u001b[1;32m----> 1\u001b[0m \u001b[43mcursor\u001b[49m\u001b[38;5;241;43m.\u001b[39;49m\u001b[43mexecute\u001b[49m\u001b[43m(\u001b[49m\u001b[38;5;124;43m\"\"\"\u001b[39;49m\n\u001b[0;32m      2\u001b[0m \u001b[38;5;124;43m    INSERT INTO domain_embeddings (domain_name, domain_description, keywords, confidence_score, embedding)\u001b[39;49m\n\u001b[0;32m      3\u001b[0m \u001b[38;5;124;43m    VALUES (\u001b[39;49m\u001b[38;5;132;43;01m%s\u001b[39;49;00m\u001b[38;5;124;43m, \u001b[39;49m\u001b[38;5;132;43;01m%s\u001b[39;49;00m\u001b[38;5;124;43m, \u001b[39;49m\u001b[38;5;132;43;01m%s\u001b[39;49;00m\u001b[38;5;124;43m, \u001b[39;49m\u001b[38;5;132;43;01m%s\u001b[39;49;00m\u001b[38;5;124;43m, \u001b[39;49m\u001b[38;5;132;43;01m%s\u001b[39;49;00m\u001b[38;5;124;43m)\u001b[39;49m\n\u001b[0;32m      4\u001b[0m \u001b[38;5;124;43m\"\"\"\u001b[39;49m\u001b[43m,\u001b[49m\u001b[43m \u001b[49m\u001b[43m(\u001b[49m\n\u001b[0;32m      5\u001b[0m \u001b[43m    \u001b[49m\u001b[43mjson_data\u001b[49m\u001b[43m[\u001b[49m\u001b[38;5;124;43m\"\u001b[39;49m\u001b[38;5;124;43mdomain_name\u001b[39;49m\u001b[38;5;124;43m\"\u001b[39;49m\u001b[43m]\u001b[49m\u001b[43m,\u001b[49m\n\u001b[0;32m      6\u001b[0m \u001b[43m    \u001b[49m\u001b[43mjson_data\u001b[49m\u001b[43m[\u001b[49m\u001b[38;5;124;43m\"\u001b[39;49m\u001b[38;5;124;43mdomain_description\u001b[39;49m\u001b[38;5;124;43m\"\u001b[39;49m\u001b[43m]\u001b[49m\u001b[43m,\u001b[49m\n\u001b[0;32m      7\u001b[0m \u001b[43m    \u001b[49m\u001b[43mjson_data\u001b[49m\u001b[43m[\u001b[49m\u001b[38;5;124;43m\"\u001b[39;49m\u001b[38;5;124;43mkeywords\u001b[39;49m\u001b[38;5;124;43m\"\u001b[39;49m\u001b[43m]\u001b[49m\u001b[43m,\u001b[49m\n\u001b[0;32m      8\u001b[0m \u001b[43m    \u001b[49m\u001b[43mjson_data\u001b[49m\u001b[43m[\u001b[49m\u001b[38;5;124;43m\"\u001b[39;49m\u001b[38;5;124;43mconfidence_score\u001b[39;49m\u001b[38;5;124;43m\"\u001b[39;49m\u001b[43m]\u001b[49m\u001b[43m,\u001b[49m\n\u001b[0;32m      9\u001b[0m \u001b[43m    \u001b[49m\u001b[43membedding\u001b[49m\n\u001b[0;32m     10\u001b[0m \u001b[43m)\u001b[49m\u001b[43m)\u001b[49m\n\u001b[0;32m     12\u001b[0m conn\u001b[38;5;241m.\u001b[39mcommit()\n\u001b[0;32m     13\u001b[0m cursor\u001b[38;5;241m.\u001b[39mclose()\n",
      "\u001b[1;31mInterfaceError\u001b[0m: cursor already closed"
     ]
    }
   ],
   "source": [
    "cursor.execute(\"\"\"\n",
    "    INSERT INTO domain_embeddings (domain_name, domain_description, keywords, confidence_score, embedding)\n",
    "    VALUES (%s, %s, %s, %s, %s)\n",
    "\"\"\", (\n",
    "    json_data[\"domain_name\"],\n",
    "    json_data[\"domain_description\"],\n",
    "    json_data[\"keywords\"],\n",
    "    json_data[\"confidence_score\"],\n",
    "    embedding\n",
    "))\n",
    "\n",
    "conn.commit()\n",
    "cursor.close()\n",
    "conn.close()\n",
    "print(\"✅ Data inserted successfully using Hugging Face embeddings!\")"
   ]
  },
  {
   "cell_type": "code",
   "execution_count": null,
   "metadata": {},
   "outputs": [],
   "source": []
  }
 ],
 "metadata": {
  "kernelspec": {
   "display_name": "myenv",
   "language": "python",
   "name": "python3"
  },
  "language_info": {
   "codemirror_mode": {
    "name": "ipython",
    "version": 3
   },
   "file_extension": ".py",
   "mimetype": "text/x-python",
   "name": "python",
   "nbconvert_exporter": "python",
   "pygments_lexer": "ipython3",
   "version": "3.12.7"
  }
 },
 "nbformat": 4,
 "nbformat_minor": 2
}
