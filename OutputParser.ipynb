{
 "cells": [
  {
   "cell_type": "markdown",
   "metadata": {},
   "source": [
    " ### Using StrOutputParser (Basic Parsing)"
   ]
  },
  {
   "cell_type": "code",
   "execution_count": 1,
   "metadata": {},
   "outputs": [
    {
     "name": "stdout",
     "output_type": "stream",
     "text": [
      "Collecting playwright\n",
      "  Downloading playwright-1.50.0-py3-none-win_amd64.whl.metadata (3.5 kB)\n",
      "Collecting pyee<13,>=12 (from playwright)\n",
      "  Downloading pyee-12.1.1-py3-none-any.whl.metadata (2.9 kB)\n",
      "Requirement already satisfied: greenlet<4.0.0,>=3.1.1 in d:\\machine learning\\langchain\\myenv\\lib\\site-packages (from playwright) (3.1.1)\n",
      "Requirement already satisfied: typing-extensions in d:\\machine learning\\langchain\\myenv\\lib\\site-packages (from pyee<13,>=12->playwright) (4.12.2)\n",
      "Downloading playwright-1.50.0-py3-none-win_amd64.whl (34.8 MB)\n",
      "   ---------------------------------------- 0.0/34.8 MB ? eta -:--:--\n",
      "   ---------------------------------------- 0.0/34.8 MB ? eta -:--:--\n",
      "   ---------------------------------------- 0.3/34.8 MB ? eta -:--:--\n",
      "    --------------------------------------- 0.5/34.8 MB 1.2 MB/s eta 0:00:29\n",
      "    --------------------------------------- 0.5/34.8 MB 1.2 MB/s eta 0:00:29\n",
      "    --------------------------------------- 0.8/34.8 MB 987.4 kB/s eta 0:00:35\n",
      "    --------------------------------------- 0.8/34.8 MB 987.4 kB/s eta 0:00:35\n",
      "   - -------------------------------------- 1.0/34.8 MB 786.4 kB/s eta 0:00:43\n",
      "   - -------------------------------------- 1.0/34.8 MB 786.4 kB/s eta 0:00:43\n",
      "   - -------------------------------------- 1.3/34.8 MB 714.3 kB/s eta 0:00:47\n",
      "   - -------------------------------------- 1.6/34.8 MB 762.9 kB/s eta 0:00:44\n",
      "   -- ------------------------------------- 1.8/34.8 MB 805.4 kB/s eta 0:00:41\n",
      "   -- ------------------------------------- 1.8/34.8 MB 805.4 kB/s eta 0:00:41\n",
      "   -- ------------------------------------- 2.1/34.8 MB 798.9 kB/s eta 0:00:41\n",
      "   -- ------------------------------------- 2.4/34.8 MB 854.9 kB/s eta 0:00:38\n",
      "   --- ------------------------------------ 2.6/34.8 MB 878.0 kB/s eta 0:00:37\n",
      "   --- ------------------------------------ 2.9/34.8 MB 883.2 kB/s eta 0:00:37\n",
      "   --- ------------------------------------ 2.9/34.8 MB 883.2 kB/s eta 0:00:37\n",
      "   --- ------------------------------------ 3.1/34.8 MB 887.3 kB/s eta 0:00:36\n",
      "   --- ------------------------------------ 3.4/34.8 MB 879.2 kB/s eta 0:00:36\n",
      "   ---- ----------------------------------- 3.7/34.8 MB 890.2 kB/s eta 0:00:35\n",
      "   ---- ----------------------------------- 3.9/34.8 MB 903.5 kB/s eta 0:00:35\n",
      "   ---- ----------------------------------- 3.9/34.8 MB 903.5 kB/s eta 0:00:35\n",
      "   ---- ----------------------------------- 4.2/34.8 MB 895.7 kB/s eta 0:00:35\n",
      "   ---- ----------------------------------- 4.2/34.8 MB 895.7 kB/s eta 0:00:35\n",
      "   ----- ---------------------------------- 4.5/34.8 MB 877.3 kB/s eta 0:00:35\n",
      "   ----- ---------------------------------- 4.5/34.8 MB 877.3 kB/s eta 0:00:35\n",
      "   ----- ---------------------------------- 4.7/34.8 MB 859.2 kB/s eta 0:00:35\n",
      "   ----- ---------------------------------- 5.0/34.8 MB 865.3 kB/s eta 0:00:35\n",
      "   ----- ---------------------------------- 5.0/34.8 MB 865.3 kB/s eta 0:00:35\n",
      "   ------ --------------------------------- 5.5/34.8 MB 880.7 kB/s eta 0:00:34\n",
      "   ------ --------------------------------- 5.5/34.8 MB 880.7 kB/s eta 0:00:34\n",
      "   ------ --------------------------------- 5.5/34.8 MB 880.7 kB/s eta 0:00:34\n",
      "   ------ --------------------------------- 5.8/34.8 MB 845.0 kB/s eta 0:00:35\n",
      "   ------ --------------------------------- 5.8/34.8 MB 845.0 kB/s eta 0:00:35\n",
      "   ------ --------------------------------- 6.0/34.8 MB 823.9 kB/s eta 0:00:35\n",
      "   ------ --------------------------------- 6.0/34.8 MB 823.9 kB/s eta 0:00:35\n",
      "   ------ --------------------------------- 6.0/34.8 MB 823.9 kB/s eta 0:00:35\n",
      "   ------- -------------------------------- 6.3/34.8 MB 809.0 kB/s eta 0:00:36\n",
      "   ------- -------------------------------- 6.6/34.8 MB 818.5 kB/s eta 0:00:35\n",
      "   ------- -------------------------------- 6.8/34.8 MB 817.7 kB/s eta 0:00:35\n",
      "   ------- -------------------------------- 6.8/34.8 MB 817.7 kB/s eta 0:00:35\n",
      "   -------- ------------------------------- 7.1/34.8 MB 812.4 kB/s eta 0:00:35\n",
      "   -------- ------------------------------- 7.1/34.8 MB 812.4 kB/s eta 0:00:35\n",
      "   -------- ------------------------------- 7.1/34.8 MB 812.4 kB/s eta 0:00:35\n",
      "   -------- ------------------------------- 7.1/34.8 MB 812.4 kB/s eta 0:00:35\n",
      "   -------- ------------------------------- 7.1/34.8 MB 812.4 kB/s eta 0:00:35\n",
      "   -------- ------------------------------- 7.1/34.8 MB 812.4 kB/s eta 0:00:35\n",
      "   -------- ------------------------------- 7.1/34.8 MB 812.4 kB/s eta 0:00:35\n",
      "   -------- ------------------------------- 7.1/34.8 MB 812.4 kB/s eta 0:00:35\n",
      "   -------- ------------------------------- 7.1/34.8 MB 812.4 kB/s eta 0:00:35\n",
      "   -------- ------------------------------- 7.1/34.8 MB 812.4 kB/s eta 0:00:35\n",
      "   -------- ------------------------------- 7.1/34.8 MB 812.4 kB/s eta 0:00:35\n",
      "   -------- ------------------------------- 7.1/34.8 MB 812.4 kB/s eta 0:00:35\n",
      "   -------- ------------------------------- 7.1/34.8 MB 812.4 kB/s eta 0:00:35\n",
      "   -------- ------------------------------- 7.1/34.8 MB 812.4 kB/s eta 0:00:35\n",
      "   -------- ------------------------------- 7.1/34.8 MB 812.4 kB/s eta 0:00:35\n",
      "   -------- ------------------------------- 7.3/34.8 MB 619.7 kB/s eta 0:00:45\n",
      "   -------- ------------------------------- 7.3/34.8 MB 619.7 kB/s eta 0:00:45\n",
      "   -------- ------------------------------- 7.6/34.8 MB 619.8 kB/s eta 0:00:44\n",
      "   --------- ------------------------------ 7.9/34.8 MB 629.4 kB/s eta 0:00:43\n",
      "   --------- ------------------------------ 7.9/34.8 MB 629.4 kB/s eta 0:00:43\n",
      "   --------- ------------------------------ 8.1/34.8 MB 622.9 kB/s eta 0:00:43\n",
      "   --------- ------------------------------ 8.1/34.8 MB 622.9 kB/s eta 0:00:43\n",
      "   --------- ------------------------------ 8.7/34.8 MB 643.7 kB/s eta 0:00:41\n",
      "   --------- ------------------------------ 8.7/34.8 MB 643.7 kB/s eta 0:00:41\n",
      "   ---------- ----------------------------- 8.9/34.8 MB 644.5 kB/s eta 0:00:41\n",
      "   ---------- ----------------------------- 8.9/34.8 MB 644.5 kB/s eta 0:00:41\n",
      "   ---------- ----------------------------- 9.2/34.8 MB 646.0 kB/s eta 0:00:40\n",
      "   ---------- ----------------------------- 9.4/34.8 MB 651.7 kB/s eta 0:00:39\n",
      "   ---------- ----------------------------- 9.4/34.8 MB 651.7 kB/s eta 0:00:39\n",
      "   ----------- ---------------------------- 9.7/34.8 MB 654.4 kB/s eta 0:00:39\n",
      "   ----------- ---------------------------- 10.0/34.8 MB 662.5 kB/s eta 0:00:38\n",
      "   ----------- ---------------------------- 10.2/34.8 MB 674.7 kB/s eta 0:00:37\n",
      "   ------------ --------------------------- 10.7/34.8 MB 694.7 kB/s eta 0:00:35\n",
      "   ------------ --------------------------- 11.0/34.8 MB 701.2 kB/s eta 0:00:34\n",
      "   ------------ --------------------------- 11.3/34.8 MB 709.6 kB/s eta 0:00:34\n",
      "   ------------- -------------------------- 11.5/34.8 MB 715.7 kB/s eta 0:00:33\n",
      "   ------------- -------------------------- 11.8/34.8 MB 728.0 kB/s eta 0:00:32\n",
      "   ------------- -------------------------- 12.1/34.8 MB 731.6 kB/s eta 0:00:32\n",
      "   -------------- ------------------------- 12.3/34.8 MB 737.8 kB/s eta 0:00:31\n",
      "   -------------- ------------------------- 12.6/34.8 MB 743.2 kB/s eta 0:00:30\n",
      "   -------------- ------------------------- 12.8/34.8 MB 752.7 kB/s eta 0:00:30\n",
      "   --------------- ------------------------ 13.4/34.8 MB 772.5 kB/s eta 0:00:28\n",
      "   ---------------- ----------------------- 14.2/34.8 MB 807.6 kB/s eta 0:00:26\n",
      "   ---------------- ----------------------- 14.4/34.8 MB 814.0 kB/s eta 0:00:26\n",
      "   ---------------- ----------------------- 14.7/34.8 MB 820.2 kB/s eta 0:00:25\n",
      "   ----------------- ---------------------- 14.9/34.8 MB 826.3 kB/s eta 0:00:25\n",
      "   ------------------ --------------------- 15.7/34.8 MB 855.5 kB/s eta 0:00:23\n",
      "   ------------------ --------------------- 16.0/34.8 MB 864.1 kB/s eta 0:00:22\n",
      "   ------------------ --------------------- 16.5/34.8 MB 879.3 kB/s eta 0:00:21\n",
      "   ------------------- -------------------- 16.8/34.8 MB 887.5 kB/s eta 0:00:21\n",
      "   ------------------- -------------------- 17.3/34.8 MB 899.8 kB/s eta 0:00:20\n",
      "   -------------------- ------------------- 17.6/34.8 MB 905.4 kB/s eta 0:00:20\n",
      "   -------------------- ------------------- 17.6/34.8 MB 905.4 kB/s eta 0:00:20\n",
      "   -------------------- ------------------- 17.8/34.8 MB 905.8 kB/s eta 0:00:19\n",
      "   -------------------- ------------------- 18.1/34.8 MB 902.6 kB/s eta 0:00:19\n",
      "   -------------------- ------------------- 18.1/34.8 MB 902.6 kB/s eta 0:00:19\n",
      "   --------------------- ------------------ 18.4/34.8 MB 896.7 kB/s eta 0:00:19\n",
      "   --------------------- ------------------ 18.4/34.8 MB 896.7 kB/s eta 0:00:19\n",
      "   --------------------- ------------------ 18.6/34.8 MB 891.7 kB/s eta 0:00:19\n",
      "   --------------------- ------------------ 18.6/34.8 MB 891.7 kB/s eta 0:00:19\n",
      "   --------------------- ------------------ 18.9/34.8 MB 888.3 kB/s eta 0:00:18\n",
      "   --------------------- ------------------ 18.9/34.8 MB 888.3 kB/s eta 0:00:18\n",
      "   ---------------------- ----------------- 19.1/34.8 MB 884.3 kB/s eta 0:00:18\n",
      "   ---------------------- ----------------- 19.4/34.8 MB 884.9 kB/s eta 0:00:18\n",
      "   ---------------------- ----------------- 19.4/34.8 MB 884.9 kB/s eta 0:00:18\n",
      "   ---------------------- ----------------- 19.7/34.8 MB 886.8 kB/s eta 0:00:18\n",
      "   ---------------------- ----------------- 19.9/34.8 MB 884.3 kB/s eta 0:00:17\n",
      "   ----------------------- ---------------- 20.2/34.8 MB 891.7 kB/s eta 0:00:17\n",
      "   ----------------------- ---------------- 20.7/34.8 MB 903.1 kB/s eta 0:00:16\n",
      "   ----------------------- ---------------- 20.7/34.8 MB 903.1 kB/s eta 0:00:16\n",
      "   ------------------------ --------------- 21.0/34.8 MB 896.8 kB/s eta 0:00:16\n",
      "   ------------------------ --------------- 21.0/34.8 MB 896.8 kB/s eta 0:00:16\n",
      "   ------------------------ --------------- 21.0/34.8 MB 896.8 kB/s eta 0:00:16\n",
      "   ------------------------ --------------- 21.2/34.8 MB 890.1 kB/s eta 0:00:16\n",
      "   ------------------------ --------------- 21.2/34.8 MB 890.1 kB/s eta 0:00:16\n",
      "   ------------------------ --------------- 21.2/34.8 MB 890.1 kB/s eta 0:00:16\n",
      "   ------------------------ --------------- 21.5/34.8 MB 877.9 kB/s eta 0:00:16\n",
      "   ------------------------ --------------- 21.5/34.8 MB 877.9 kB/s eta 0:00:16\n",
      "   ------------------------- -------------- 21.8/34.8 MB 870.2 kB/s eta 0:00:15\n",
      "   ------------------------- -------------- 21.8/34.8 MB 870.2 kB/s eta 0:00:15\n",
      "   ------------------------- -------------- 22.0/34.8 MB 868.2 kB/s eta 0:00:15\n",
      "   ------------------------- -------------- 22.0/34.8 MB 868.2 kB/s eta 0:00:15\n",
      "   ------------------------- -------------- 22.3/34.8 MB 865.7 kB/s eta 0:00:15\n",
      "   ------------------------- -------------- 22.5/34.8 MB 864.3 kB/s eta 0:00:15\n",
      "   ------------------------- -------------- 22.5/34.8 MB 864.3 kB/s eta 0:00:15\n",
      "   -------------------------- ------------- 22.8/34.8 MB 862.4 kB/s eta 0:00:14\n",
      "   -------------------------- ------------- 23.1/34.8 MB 863.2 kB/s eta 0:00:14\n",
      "   -------------------------- ------------- 23.3/34.8 MB 867.5 kB/s eta 0:00:14\n",
      "   -------------------------- ------------- 23.3/34.8 MB 867.5 kB/s eta 0:00:14\n",
      "   -------------------------- ------------- 23.3/34.8 MB 867.5 kB/s eta 0:00:14\n",
      "   --------------------------- ------------ 23.6/34.8 MB 861.1 kB/s eta 0:00:13\n",
      "   --------------------------- ------------ 23.6/34.8 MB 861.1 kB/s eta 0:00:13\n",
      "   --------------------------- ------------ 23.9/34.8 MB 857.9 kB/s eta 0:00:13\n",
      "   --------------------------- ------------ 24.1/34.8 MB 857.7 kB/s eta 0:00:13\n",
      "   ---------------------------- ----------- 24.4/34.8 MB 862.3 kB/s eta 0:00:13\n",
      "   ---------------------------- ----------- 24.4/34.8 MB 862.3 kB/s eta 0:00:13\n",
      "   ---------------------------- ----------- 24.6/34.8 MB 860.2 kB/s eta 0:00:12\n",
      "   ---------------------------- ----------- 24.9/34.8 MB 863.2 kB/s eta 0:00:12\n",
      "   ---------------------------- ----------- 25.2/34.8 MB 865.8 kB/s eta 0:00:12\n",
      "   ----------------------------- ---------- 25.4/34.8 MB 866.9 kB/s eta 0:00:11\n",
      "   ----------------------------- ---------- 25.4/34.8 MB 866.9 kB/s eta 0:00:11\n",
      "   ----------------------------- ---------- 25.7/34.8 MB 865.6 kB/s eta 0:00:11\n",
      "   ----------------------------- ---------- 25.7/34.8 MB 865.6 kB/s eta 0:00:11\n",
      "   ----------------------------- ---------- 26.0/34.8 MB 863.5 kB/s eta 0:00:11\n",
      "   ------------------------------ --------- 26.5/34.8 MB 866.4 kB/s eta 0:00:10\n",
      "   ------------------------------ --------- 26.5/34.8 MB 866.4 kB/s eta 0:00:10\n",
      "   ------------------------------ --------- 26.7/34.8 MB 869.2 kB/s eta 0:00:10\n",
      "   ------------------------------- -------- 27.0/34.8 MB 872.8 kB/s eta 0:00:09\n",
      "   ------------------------------- -------- 27.0/34.8 MB 872.8 kB/s eta 0:00:09\n",
      "   ------------------------------- -------- 27.3/34.8 MB 875.6 kB/s eta 0:00:09\n",
      "   ------------------------------- -------- 27.8/34.8 MB 884.4 kB/s eta 0:00:08\n",
      "   -------------------------------- ------- 28.0/34.8 MB 887.6 kB/s eta 0:00:08\n",
      "   -------------------------------- ------- 28.3/34.8 MB 886.2 kB/s eta 0:00:08\n",
      "   -------------------------------- ------- 28.6/34.8 MB 891.3 kB/s eta 0:00:07\n",
      "   --------------------------------- ------ 28.8/34.8 MB 895.0 kB/s eta 0:00:07\n",
      "   --------------------------------- ------ 29.1/34.8 MB 891.8 kB/s eta 0:00:07\n",
      "   --------------------------------- ------ 29.4/34.8 MB 891.3 kB/s eta 0:00:07\n",
      "   --------------------------------- ------ 29.4/34.8 MB 891.3 kB/s eta 0:00:07\n",
      "   ---------------------------------- ----- 29.6/34.8 MB 893.1 kB/s eta 0:00:06\n",
      "   ---------------------------------- ----- 29.9/34.8 MB 894.1 kB/s eta 0:00:06\n",
      "   ---------------------------------- ----- 29.9/34.8 MB 894.1 kB/s eta 0:00:06\n",
      "   ---------------------------------- ----- 30.4/34.8 MB 895.9 kB/s eta 0:00:05\n",
      "   ---------------------------------- ----- 30.4/34.8 MB 895.9 kB/s eta 0:00:05\n",
      "   ----------------------------------- ---- 30.7/34.8 MB 893.1 kB/s eta 0:00:05\n",
      "   ----------------------------------- ---- 31.2/34.8 MB 901.0 kB/s eta 0:00:04\n",
      "   ------------------------------------ --- 31.5/34.8 MB 910.0 kB/s eta 0:00:04\n",
      "   ------------------------------------ --- 31.7/34.8 MB 911.1 kB/s eta 0:00:04\n",
      "   ------------------------------------ --- 32.0/34.8 MB 915.9 kB/s eta 0:00:04\n",
      "   ------------------------------------ --- 32.0/34.8 MB 915.9 kB/s eta 0:00:04\n",
      "   ------------------------------------- -- 32.5/34.8 MB 920.4 kB/s eta 0:00:03\n",
      "   ------------------------------------- -- 32.8/34.8 MB 926.2 kB/s eta 0:00:03\n",
      "   ------------------------------------- -- 33.0/34.8 MB 928.2 kB/s eta 0:00:02\n",
      "   -------------------------------------- - 33.3/34.8 MB 933.5 kB/s eta 0:00:02\n",
      "   -------------------------------------- - 33.6/34.8 MB 938.4 kB/s eta 0:00:02\n",
      "   -------------------------------------- - 33.8/34.8 MB 939.4 kB/s eta 0:00:02\n",
      "   -------------------------------------- - 33.8/34.8 MB 939.4 kB/s eta 0:00:02\n",
      "   -------------------------------------- - 33.8/34.8 MB 939.4 kB/s eta 0:00:02\n",
      "   ---------------------------------------  34.3/34.8 MB 947.3 kB/s eta 0:00:01\n",
      "   ---------------------------------------  34.6/34.8 MB 951.6 kB/s eta 0:00:01\n",
      "   ---------------------------------------- 34.8/34.8 MB 952.2 kB/s eta 0:00:00\n",
      "Downloading pyee-12.1.1-py3-none-any.whl (15 kB)\n",
      "Installing collected packages: pyee, playwright\n",
      "Successfully installed playwright-1.50.0 pyee-12.1.1\n",
      "Note: you may need to restart the kernel to use updated packages.\n"
     ]
    },
    {
     "name": "stderr",
     "output_type": "stream",
     "text": [
      "\n",
      "[notice] A new release of pip is available: 24.2 -> 25.0.1\n",
      "[notice] To update, run: python.exe -m pip install --upgrade pip\n"
     ]
    }
   ],
   "source": [
    "%pip install playwright"
   ]
  },
  {
   "cell_type": "code",
   "execution_count": 26,
   "metadata": {},
   "outputs": [
    {
     "name": "stdout",
     "output_type": "stream",
     "text": [
      "\n"
     ]
    }
   ],
   "source": [
    "from langchain_core.output_parsers import StrOutputParser\n",
    "\n",
    "# ✅ Initialize Parser\n",
    "output_parser = StrOutputParser()\n",
    "print(StrOutputParser())  # Output: <langchain_core.output_parsers.StrOutputParser object at 0x7f4e3b7f8b20>\n",
    "# ✅ Simulated AI Response\n",
    "response = \"Hello! How can I assist you today?\"\n",
    "\n",
    "# ✅ Parse Response\n",
    "parsed_output = output_parser.parse(response)\n",
    "# print(parsed_output)  # Output: Hello! How can I assist you today?\n"
   ]
  },
  {
   "cell_type": "markdown",
   "metadata": {},
   "source": [
    "### JsonOutputParser → Full JSON Parsing"
   ]
  },
  {
   "cell_type": "code",
   "execution_count": 27,
   "metadata": {},
   "outputs": [
    {
     "name": "stdout",
     "output_type": "stream",
     "text": [
      "\n",
      "<class 'dict'>\n",
      "{'name': 'Alice', 'age': 25, 'city': 'New York'}\n"
     ]
    }
   ],
   "source": [
    "from langchain_core.output_parsers import JsonOutputParser\n",
    "\n",
    "# ✅ Initialize JSON Parser\n",
    "output_parser = JsonOutputParser()\n",
    "print(JsonOutputParser())\n",
    "# ✅ Simulated AI JSON Response\n",
    "response = '{\"name\": \"Alice\", \"age\": 25, \"city\": \"New York\"}'\n",
    "\n",
    "# ✅ Parse Response\n",
    "parsed_output = output_parser.parse(response)\n",
    "print(type(parsed_output))  # Output: <class 'dict'>\n",
    "print(parsed_output)  # Output: {'name': 'Alice', 'age': 25, 'city': 'New York'}\n"
   ]
  },
  {
   "cell_type": "markdown",
   "metadata": {},
   "source": [
    "### PydanticOutputParser → Structured Output with Data Validation"
   ]
  },
  {
   "cell_type": "code",
   "execution_count": 13,
   "metadata": {},
   "outputs": [
    {
     "name": "stdout",
     "output_type": "stream",
     "text": [
      "Alice 25\n"
     ]
    }
   ],
   "source": [
    "from langchain_core.output_parsers import PydanticOutputParser\n",
    "from pydantic import BaseModel, Field\n",
    "\n",
    "# ✅ Define Schema\n",
    "class UserInfo(BaseModel):\n",
    "    name: str = Field(description=\"User's name\")\n",
    "    age: int = Field(description=\"User's age\")\n",
    "\n",
    "# ✅ Initialize Parser\n",
    "output_parser = PydanticOutputParser(pydantic_object=UserInfo)\n",
    "\n",
    "# ✅ Simulated AI Response\n",
    "response = '{\"name\": \"Alice\", \"age\": 25}'\n",
    "\n",
    "# ✅ Parse Response\n",
    "parsed_output = output_parser.parse(response)\n",
    "print(parsed_output.name, parsed_output.age)  # Output: Alice 25"
   ]
  },
  {
   "cell_type": "markdown",
   "metadata": {},
   "source": [
    "### ListOutputParser → Parsing a List of Items"
   ]
  },
  {
   "cell_type": "code",
   "execution_count": 22,
   "metadata": {},
   "outputs": [
    {
     "name": "stdout",
     "output_type": "stream",
     "text": [
      "['Apple', 'Banana', 'Cherry']\n"
     ]
    },
    {
     "data": {
      "text/plain": [
       "list"
      ]
     },
     "execution_count": 22,
     "metadata": {},
     "output_type": "execute_result"
    }
   ],
   "source": [
    "from langchain_core.output_parsers import JsonOutputParser\n",
    "\n",
    "# ✅ Initialize JSON Parser\n",
    "output_parser = JsonOutputParser()\n",
    "\n",
    "# ✅ Simulated AI Response (List)\n",
    "response = '[\"Apple\", \"Banana\", \"Cherry\"]'  # This is valid JSON format\n",
    "\n",
    "# ✅ Parse Response\n",
    "parsed_output = output_parser.parse(response)\n",
    "\n",
    "print(parsed_output)  # Output: ['Apple', 'Banana', 'Cherry']\n",
    "type(parsed_output)  # Output: <class 'list'>\n"
   ]
  },
  {
   "cell_type": "code",
   "execution_count": 18,
   "metadata": {},
   "outputs": [
    {
     "name": "stdout",
     "output_type": "stream",
     "text": [
      "['apple', 'banana', 'cherry', 'date']\n"
     ]
    }
   ],
   "source": [
    "from langchain_core.output_parsers import CommaSeparatedListOutputParser\n",
    "\n",
    "# ✅ Initialize Parser\n",
    "output_parser = CommaSeparatedListOutputParser()\n",
    "\n",
    "# ✅ Simulated AI Response\n",
    "response = \"apple, banana, cherry, date\"\n",
    "\n",
    "# ✅ Parse Response\n",
    "parsed_output = output_parser.parse(response)\n",
    "print(parsed_output)  # Output: ['apple', 'banana', 'cherry', 'date']"
   ]
  },
  {
   "cell_type": "code",
   "execution_count": 30,
   "metadata": {},
   "outputs": [
    {
     "name": "stdout",
     "output_type": "stream",
     "text": [
      "Return a JSON object.\n",
      "{'popularLanguages': [{'name': 'Python', 'description': 'A versatile language used for web development, data science, and more.'}, {'name': 'JavaScript', 'description': 'Primarily used for front-end web development, but also increasingly popular for back-end and mobile development.'}, {'name': 'Java', 'description': 'A robust language used for enterprise applications, Android development, and more.'}]}\n"
     ]
    }
   ],
   "source": [
    "from langchain_google_genai import ChatGoogleGenerativeAI\n",
    "from langchain_core.prompts import ChatPromptTemplate\n",
    "from langchain_core.output_parsers import JsonOutputParser\n",
    "from langchain_core.messages import AIMessage\n",
    "\n",
    "# ✅ Initialize LLM Model\n",
    "llm = ChatGoogleGenerativeAI(model=\"gemini-1.5-flash\")\n",
    "\n",
    "# ✅ Initialize Output Parser (JSON)\n",
    "output_parser = JsonOutputParser()\n",
    "\n",
    "# ✅ Generate Format Instructions for LLM\n",
    "format_instructions = output_parser.get_format_instructions()\n",
    "\n",
    "print(format_instructions)  # Output: \"List 3 popular programming languages in JSON format.\"\n",
    "# ✅ Create Prompt Template\n",
    "prompt = ChatPromptTemplate.from_messages([\n",
    "    (\"system\", \"You are a helpful assistant.\"),\n",
    "    (\"user\", \"List 3 popular programming languages in JSON format. {format_instructions}\")\n",
    "])\n",
    "\n",
    "# ✅ Format Prompt\n",
    "formatted_prompt = prompt.invoke({\"format_instructions\": format_instructions})\n",
    "\n",
    "# ✅ Get LLM Response\n",
    "response = llm.invoke(formatted_prompt)\n",
    "\n",
    "# ✅ Parse Response\n",
    "parsed_output = output_parser.parse(response.content)\n",
    "\n",
    "print(parsed_output)  # Output: [\"Python\", \"JavaScript\", \"C++\"]\n"
   ]
  },
  {
   "cell_type": "code",
   "execution_count": null,
   "metadata": {},
   "outputs": [],
   "source": []
  }
 ],
 "metadata": {
  "kernelspec": {
   "display_name": "myenv",
   "language": "python",
   "name": "python3"
  },
  "language_info": {
   "codemirror_mode": {
    "name": "ipython",
    "version": 3
   },
   "file_extension": ".py",
   "mimetype": "text/x-python",
   "name": "python",
   "nbconvert_exporter": "python",
   "pygments_lexer": "ipython3",
   "version": "3.12.7"
  }
 },
 "nbformat": 4,
 "nbformat_minor": 2
}
