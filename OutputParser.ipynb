{
 "cells": [
  {
   "cell_type": "markdown",
   "metadata": {},
   "source": [
    " ### Using StrOutputParser (Basic Parsing)"
   ]
  },
  {
   "cell_type": "code",
   "execution_count": 4,
   "metadata": {},
   "outputs": [
    {
     "name": "stdout",
     "output_type": "stream",
     "text": [
      "Requirement already satisfied: langchain_core in d:\\machine learning\\langchain\\myenv\\lib\\site-packages (0.3.40)\n",
      "Requirement already satisfied: langsmith<0.4,>=0.1.125 in d:\\machine learning\\langchain\\myenv\\lib\\site-packages (from langchain_core) (0.3.11)\n",
      "Requirement already satisfied: tenacity!=8.4.0,<10.0.0,>=8.1.0 in d:\\machine learning\\langchain\\myenv\\lib\\site-packages (from langchain_core) (9.0.0)\n",
      "Requirement already satisfied: jsonpatch<2.0,>=1.33 in d:\\machine learning\\langchain\\myenv\\lib\\site-packages (from langchain_core) (1.33)\n",
      "Requirement already satisfied: PyYAML>=5.3 in d:\\machine learning\\langchain\\myenv\\lib\\site-packages (from langchain_core) (6.0.2)\n",
      "Requirement already satisfied: packaging<25,>=23.2 in d:\\machine learning\\langchain\\myenv\\lib\\site-packages (from langchain_core) (24.2)\n",
      "Requirement already satisfied: typing-extensions>=4.7 in d:\\machine learning\\langchain\\myenv\\lib\\site-packages (from langchain_core) (4.12.2)\n",
      "Requirement already satisfied: pydantic<3.0.0,>=2.7.4 in d:\\machine learning\\langchain\\myenv\\lib\\site-packages (from langchain_core) (2.10.6)\n",
      "Requirement already satisfied: jsonpointer>=1.9 in d:\\machine learning\\langchain\\myenv\\lib\\site-packages (from jsonpatch<2.0,>=1.33->langchain_core) (3.0.0)\n",
      "Requirement already satisfied: httpx<1,>=0.23.0 in d:\\machine learning\\langchain\\myenv\\lib\\site-packages (from langsmith<0.4,>=0.1.125->langchain_core) (0.28.1)\n",
      "Requirement already satisfied: orjson<4.0.0,>=3.9.14 in d:\\machine learning\\langchain\\myenv\\lib\\site-packages (from langsmith<0.4,>=0.1.125->langchain_core) (3.10.15)\n",
      "Requirement already satisfied: requests<3,>=2 in d:\\machine learning\\langchain\\myenv\\lib\\site-packages (from langsmith<0.4,>=0.1.125->langchain_core) (2.32.3)\n",
      "Requirement already satisfied: requests-toolbelt<2.0.0,>=1.0.0 in d:\\machine learning\\langchain\\myenv\\lib\\site-packages (from langsmith<0.4,>=0.1.125->langchain_core) (1.0.0)\n",
      "Requirement already satisfied: zstandard<0.24.0,>=0.23.0 in d:\\machine learning\\langchain\\myenv\\lib\\site-packages (from langsmith<0.4,>=0.1.125->langchain_core) (0.23.0)\n",
      "Requirement already satisfied: annotated-types>=0.6.0 in d:\\machine learning\\langchain\\myenv\\lib\\site-packages (from pydantic<3.0.0,>=2.7.4->langchain_core) (0.7.0)\n",
      "Requirement already satisfied: pydantic-core==2.27.2 in d:\\machine learning\\langchain\\myenv\\lib\\site-packages (from pydantic<3.0.0,>=2.7.4->langchain_core) (2.27.2)\n",
      "Requirement already satisfied: anyio in d:\\machine learning\\langchain\\myenv\\lib\\site-packages (from httpx<1,>=0.23.0->langsmith<0.4,>=0.1.125->langchain_core) (4.8.0)\n",
      "Requirement already satisfied: certifi in d:\\machine learning\\langchain\\myenv\\lib\\site-packages (from httpx<1,>=0.23.0->langsmith<0.4,>=0.1.125->langchain_core) (2025.1.31)\n",
      "Requirement already satisfied: httpcore==1.* in d:\\machine learning\\langchain\\myenv\\lib\\site-packages (from httpx<1,>=0.23.0->langsmith<0.4,>=0.1.125->langchain_core) (1.0.7)\n",
      "Requirement already satisfied: idna in d:\\machine learning\\langchain\\myenv\\lib\\site-packages (from httpx<1,>=0.23.0->langsmith<0.4,>=0.1.125->langchain_core) (3.10)\n",
      "Requirement already satisfied: h11<0.15,>=0.13 in d:\\machine learning\\langchain\\myenv\\lib\\site-packages (from httpcore==1.*->httpx<1,>=0.23.0->langsmith<0.4,>=0.1.125->langchain_core) (0.14.0)\n",
      "Requirement already satisfied: charset-normalizer<4,>=2 in d:\\machine learning\\langchain\\myenv\\lib\\site-packages (from requests<3,>=2->langsmith<0.4,>=0.1.125->langchain_core) (3.4.1)\n",
      "Requirement already satisfied: urllib3<3,>=1.21.1 in d:\\machine learning\\langchain\\myenv\\lib\\site-packages (from requests<3,>=2->langsmith<0.4,>=0.1.125->langchain_core) (2.3.0)\n",
      "Requirement already satisfied: sniffio>=1.1 in d:\\machine learning\\langchain\\myenv\\lib\\site-packages (from anyio->httpx<1,>=0.23.0->langsmith<0.4,>=0.1.125->langchain_core) (1.3.1)\n",
      "Note: you may need to restart the kernel to use updated packages.\n"
     ]
    },
    {
     "name": "stderr",
     "output_type": "stream",
     "text": [
      "\n",
      "[notice] A new release of pip is available: 24.2 -> 25.0.1\n",
      "[notice] To update, run: python.exe -m pip install --upgrade pip\n"
     ]
    }
   ],
   "source": [
    "%pip install langchain_core"
   ]
  },
  {
   "cell_type": "code",
   "execution_count": 26,
   "metadata": {},
   "outputs": [
    {
     "name": "stdout",
     "output_type": "stream",
     "text": [
      "\n"
     ]
    }
   ],
   "source": [
    "from langchain_core.output_parsers import StrOutputParser\n",
    "\n",
    "# ✅ Initialize Parser\n",
    "output_parser = StrOutputParser()\n",
    "print(StrOutputParser())  # Output: <langchain_core.output_parsers.StrOutputParser object at 0x7f4e3b7f8b20>\n",
    "# ✅ Simulated AI Response\n",
    "response = \"Hello! How can I assist you today?\"\n",
    "\n",
    "# ✅ Parse Response\n",
    "parsed_output = output_parser.parse(response)\n",
    "# print(parsed_output)  # Output: Hello! How can I assist you today?\n"
   ]
  },
  {
   "cell_type": "markdown",
   "metadata": {},
   "source": [
    "### JsonOutputParser → Full JSON Parsing"
   ]
  },
  {
   "cell_type": "code",
   "execution_count": 27,
   "metadata": {},
   "outputs": [
    {
     "name": "stdout",
     "output_type": "stream",
     "text": [
      "\n",
      "<class 'dict'>\n",
      "{'name': 'Alice', 'age': 25, 'city': 'New York'}\n"
     ]
    }
   ],
   "source": [
    "from langchain_core.output_parsers import JsonOutputParser\n",
    "\n",
    "# ✅ Initialize JSON Parser\n",
    "output_parser = JsonOutputParser()\n",
    "print(JsonOutputParser())\n",
    "# ✅ Simulated AI JSON Response\n",
    "response = '{\"name\": \"Alice\", \"age\": 25, \"city\": \"New York\"}'\n",
    "\n",
    "# ✅ Parse Response\n",
    "parsed_output = output_parser.parse(response)\n",
    "print(type(parsed_output))  # Output: <class 'dict'>\n",
    "print(parsed_output)  # Output: {'name': 'Alice', 'age': 25, 'city': 'New York'}\n"
   ]
  },
  {
   "cell_type": "markdown",
   "metadata": {},
   "source": [
    "### PydanticOutputParser → Structured Output with Data Validation"
   ]
  },
  {
   "cell_type": "code",
   "execution_count": 13,
   "metadata": {},
   "outputs": [
    {
     "name": "stdout",
     "output_type": "stream",
     "text": [
      "Alice 25\n"
     ]
    }
   ],
   "source": [
    "from langchain_core.output_parsers import PydanticOutputParser\n",
    "from pydantic import BaseModel, Field\n",
    "\n",
    "# ✅ Define Schema\n",
    "class UserInfo(BaseModel):\n",
    "    name: str = Field(description=\"User's name\")\n",
    "    age: int = Field(description=\"User's age\")\n",
    "\n",
    "# ✅ Initialize Parser\n",
    "output_parser = PydanticOutputParser(pydantic_object=UserInfo)\n",
    "\n",
    "# ✅ Simulated AI Response\n",
    "response = '{\"name\": \"Alice\", \"age\": 25}'\n",
    "\n",
    "# ✅ Parse Response\n",
    "parsed_output = output_parser.parse(response)\n",
    "print(parsed_output.name, parsed_output.age)  # Output: Alice 25"
   ]
  },
  {
   "cell_type": "markdown",
   "metadata": {},
   "source": [
    "### ListOutputParser → Parsing a List of Items"
   ]
  },
  {
   "cell_type": "code",
   "execution_count": 22,
   "metadata": {},
   "outputs": [
    {
     "name": "stdout",
     "output_type": "stream",
     "text": [
      "['Apple', 'Banana', 'Cherry']\n"
     ]
    },
    {
     "data": {
      "text/plain": [
       "list"
      ]
     },
     "execution_count": 22,
     "metadata": {},
     "output_type": "execute_result"
    }
   ],
   "source": [
    "from langchain_core.output_parsers import JsonOutputParser\n",
    "\n",
    "# ✅ Initialize JSON Parser\n",
    "output_parser = JsonOutputParser()\n",
    "\n",
    "# ✅ Simulated AI Response (List)\n",
    "response = '[\"Apple\", \"Banana\", \"Cherry\"]'  # This is valid JSON format\n",
    "\n",
    "# ✅ Parse Response\n",
    "parsed_output = output_parser.parse(response)\n",
    "\n",
    "print(parsed_output)  # Output: ['Apple', 'Banana', 'Cherry']\n",
    "type(parsed_output)  # Output: <class 'list'>\n"
   ]
  },
  {
   "cell_type": "code",
   "execution_count": 18,
   "metadata": {},
   "outputs": [
    {
     "name": "stdout",
     "output_type": "stream",
     "text": [
      "['apple', 'banana', 'cherry', 'date']\n"
     ]
    }
   ],
   "source": [
    "from langchain_core.output_parsers import CommaSeparatedListOutputParser\n",
    "\n",
    "# ✅ Initialize Parser\n",
    "output_parser = CommaSeparatedListOutputParser()\n",
    "\n",
    "# ✅ Simulated AI Response\n",
    "response = \"apple, banana, cherry, date\"\n",
    "\n",
    "# ✅ Parse Response\n",
    "parsed_output = output_parser.parse(response)\n",
    "print(parsed_output)  # Output: ['apple', 'banana', 'cherry', 'date']"
   ]
  },
  {
   "cell_type": "code",
   "execution_count": 30,
   "metadata": {},
   "outputs": [
    {
     "name": "stdout",
     "output_type": "stream",
     "text": [
      "Return a JSON object.\n",
      "{'popularLanguages': [{'name': 'Python', 'description': 'A versatile language used for web development, data science, and more.'}, {'name': 'JavaScript', 'description': 'Primarily used for front-end web development, but also increasingly popular for back-end and mobile development.'}, {'name': 'Java', 'description': 'A robust language used for enterprise applications, Android development, and more.'}]}\n"
     ]
    }
   ],
   "source": [
    "from langchain_google_genai import ChatGoogleGenerativeAI\n",
    "from langchain_core.prompts import ChatPromptTemplate\n",
    "from langchain_core.output_parsers import JsonOutputParser\n",
    "from langchain_core.messages import AIMessage\n",
    "\n",
    "# ✅ Initialize LLM Model\n",
    "llm = ChatGoogleGenerativeAI(model=\"gemini-1.5-flash\")\n",
    "\n",
    "# ✅ Initialize Output Parser (JSON)\n",
    "output_parser = JsonOutputParser()\n",
    "\n",
    "# ✅ Generate Format Instructions for LLM\n",
    "format_instructions = output_parser.get_format_instructions()\n",
    "\n",
    "print(format_instructions)  # Output: \"List 3 popular programming languages in JSON format.\"\n",
    "# ✅ Create Prompt Template\n",
    "prompt = ChatPromptTemplate.from_messages([\n",
    "    (\"system\", \"You are a helpful assistant.\"),\n",
    "    (\"user\", \"List 3 popular programming languages in JSON format. {format_instructions}\")\n",
    "])\n",
    "\n",
    "# ✅ Format Prompt\n",
    "formatted_prompt = prompt.invoke({\"format_instructions\": format_instructions})\n",
    "\n",
    "# ✅ Get LLM Response\n",
    "response = llm.invoke(formatted_prompt)\n",
    "\n",
    "# ✅ Parse Response\n",
    "parsed_output = output_parser.parse(response.content)\n",
    "\n",
    "print(parsed_output)  # Output: [\"Python\", \"JavaScript\", \"C++\"]\n"
   ]
  },
  {
   "cell_type": "code",
   "execution_count": null,
   "metadata": {},
   "outputs": [],
   "source": []
  }
 ],
 "metadata": {
  "kernelspec": {
   "display_name": "myenv",
   "language": "python",
   "name": "python3"
  },
  "language_info": {
   "codemirror_mode": {
    "name": "ipython",
    "version": 3
   },
   "file_extension": ".py",
   "mimetype": "text/x-python",
   "name": "python",
   "nbconvert_exporter": "python",
   "pygments_lexer": "ipython3",
   "version": "3.12.7"
  }
 },
 "nbformat": 4,
 "nbformat_minor": 2
}
